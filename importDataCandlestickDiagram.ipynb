{
 "cells": [
  {
   "cell_type": "markdown",
   "source": [
    "## Import Packages"
   ],
   "metadata": {
    "collapsed": false
   }
  },
  {
   "cell_type": "code",
   "execution_count": 1,
   "outputs": [],
   "source": [
    "import investpy\n",
    "import zipfile\n",
    "import math\n",
    "import matplotlib.pyplot as plt\n",
    "import mplfinance\n",
    "import pandas as pd\n",
    "import matplotlib.dates as mpl_dates"
   ],
   "metadata": {
    "collapsed": false,
    "pycharm": {
     "name": "#%%\n"
    }
   }
  },
  {
   "cell_type": "markdown",
   "source": [
    "## Obtaining Stock Data"
   ],
   "metadata": {
    "collapsed": false
   }
  },
  {
   "cell_type": "code",
   "execution_count": 2,
   "outputs": [
    {
     "name": "stdout",
     "output_type": "stream",
     "text": [
      "                 Date    Name     Open     High      Low    Close  Volume  \\\n",
      "Date                                                                        \n",
      "2020-12-01 2020-12-01  SNP500  3645.87  3678.45  3645.87  3662.45       0   \n",
      "2020-12-02 2020-12-02  SNP500  3653.78  3670.96  3644.84  3669.01       0   \n",
      "2020-12-03 2020-12-03  SNP500  3668.28  3682.73  3657.17  3666.72       0   \n",
      "2020-12-04 2020-12-04  SNP500  3670.94  3699.20  3670.94  3699.12       0   \n",
      "2020-12-07 2020-12-07  SNP500  3694.73  3697.41  3678.88  3691.96       0   \n",
      "2020-12-08 2020-12-08  SNP500  3683.05  3708.45  3678.83  3702.25       0   \n",
      "2020-12-09 2020-12-09  SNP500  3705.98  3712.39  3660.54  3672.82       0   \n",
      "2020-12-10 2020-12-10  SNP500  3659.13  3678.49  3645.18  3668.10       0   \n",
      "2020-12-11 2020-12-11  SNP500  3656.08  3665.91  3633.40  3663.46       0   \n",
      "2020-12-14 2020-12-14  SNP500  3675.27  3697.61  3645.84  3647.49       0   \n",
      "2020-12-15 2020-12-15  SNP500  3666.41  3695.29  3659.62  3694.62       0   \n",
      "2020-12-16 2020-12-16  SNP500  3696.25  3711.27  3688.57  3701.17       0   \n",
      "2020-12-17 2020-12-17  SNP500  3713.65  3725.12  3710.87  3722.48       0   \n",
      "2020-12-18 2020-12-18  SNP500  3722.39  3726.70  3685.84  3709.41       0   \n",
      "2020-12-21 2020-12-21  SNP500  3684.28  3702.90  3636.48  3694.92       0   \n",
      "2020-12-22 2020-12-22  SNP500  3698.08  3698.26  3676.16  3687.26       0   \n",
      "2020-12-23 2020-12-23  SNP500  3693.42  3711.24  3689.28  3690.01       0   \n",
      "2020-12-24 2020-12-24  SNP500  3694.03  3703.82  3689.32  3703.06       0   \n",
      "2020-12-28 2020-12-28  SNP500  3723.03  3740.51  3723.03  3735.36       0   \n",
      "2020-12-29 2020-12-29  SNP500  3750.01  3756.12  3723.31  3727.04       0   \n",
      "2020-12-30 2020-12-30  SNP500  3736.19  3744.63  3730.21  3732.04       0   \n",
      "\n",
      "           Currency  \n",
      "Date                 \n",
      "2020-12-01      USD  \n",
      "2020-12-02      USD  \n",
      "2020-12-03      USD  \n",
      "2020-12-04      USD  \n",
      "2020-12-07      USD  \n",
      "2020-12-08      USD  \n",
      "2020-12-09      USD  \n",
      "2020-12-10      USD  \n",
      "2020-12-11      USD  \n",
      "2020-12-14      USD  \n",
      "2020-12-15      USD  \n",
      "2020-12-16      USD  \n",
      "2020-12-17      USD  \n",
      "2020-12-18      USD  \n",
      "2020-12-21      USD  \n",
      "2020-12-22      USD  \n",
      "2020-12-23      USD  \n",
      "2020-12-24      USD  \n",
      "2020-12-28      USD  \n",
      "2020-12-29      USD  \n",
      "2020-12-30      USD  \n"
     ]
    }
   ],
   "source": [
    "stocks = ['SNP500']\n",
    "\n",
    "dfs = []\n",
    "\n",
    "for index, stock in enumerate(stocks):\n",
    "    df = investpy.get_index_historical_data(index='s&p 500',\n",
    "                                        country='United States',\n",
    "                                        from_date='01/12/2020',\n",
    "                                        to_date='30/12/2020')\n",
    "\n",
    "    df['Date'] = df.index\n",
    "    df['Name'] = stock\n",
    "\n",
    "    df = df[['Date', 'Name', 'Open', 'High', 'Low', 'Close', 'Volume', 'Currency']]\n",
    "    df.name = stock\n",
    "    print(df)\n",
    "    dfs.append(df)"
   ],
   "metadata": {
    "collapsed": false,
    "pycharm": {
     "name": "#%%\n"
    }
   }
  },
  {
   "cell_type": "markdown",
   "source": [
    "## Candlestick"
   ],
   "metadata": {
    "collapsed": false
   }
  },
  {
   "cell_type": "code",
   "execution_count": 3,
   "outputs": [],
   "source": [
    "plt.style.use('ggplot')\n",
    "\n",
    "save = dict(fname='test.png', bbox_inches='tight',\n",
    "            dpi=550, transparent=True\n",
    "            )\n",
    "\n",
    "mplfinance.plot( df, type='candle', style='charles',\n",
    "                 title='S&P 500 Index Price, Dec 2020', ylabel='Price ($)',\n",
    "                 savefig=save)"
   ],
   "metadata": {
    "collapsed": false,
    "pycharm": {
     "name": "#%%\n"
    }
   }
  }
 ],
 "metadata": {
  "kernelspec": {
   "display_name": "Python 3",
   "language": "python",
   "name": "python3"
  },
  "language_info": {
   "codemirror_mode": {
    "name": "ipython",
    "version": 2
   },
   "file_extension": ".py",
   "mimetype": "text/x-python",
   "name": "python",
   "nbconvert_exporter": "python",
   "pygments_lexer": "ipython2",
   "version": "2.7.6"
  }
 },
 "nbformat": 4,
 "nbformat_minor": 0
}